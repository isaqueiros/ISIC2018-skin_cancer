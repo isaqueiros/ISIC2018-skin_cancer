{
  "nbformat": 4,
  "nbformat_minor": 0,
  "metadata": {
    "colab": {
      "provenance": []
    },
    "kernelspec": {
      "name": "python3",
      "display_name": "Python 3"
    },
    "language_info": {
      "name": "python"
    }
  },
  "cells": [
    {
      "cell_type": "markdown",
      "source": [
        "# Model"
      ],
      "metadata": {
        "id": "qzPNsWkaPAia"
      }
    },
    {
      "cell_type": "code",
      "source": [
        "import keras\n",
        "from keras import layers, models\n",
        "from tensorflow.keras.applications import DenseNet201\n",
        "import tensorflow as tf"
      ],
      "metadata": {
        "id": "pSj6jm5JPKRj"
      },
      "execution_count": 1,
      "outputs": []
    },
    {
      "cell_type": "code",
      "source": [
        "class ModelBuilder:\n",
        "\n",
        "  def __init__(self, channels, image_size):\n",
        "    self.CHANNELS = channels\n",
        "    self.IMAGE_SIZE = image_size\n",
        "\n",
        "  def build_model(self, dense1, dropout1, dense2, dropout2):\n",
        "    base_model = DenseNet201(\n",
        "      include_top=False,\n",
        "      weights='imagenet',\n",
        "      input_shape=(self.IMAGE_SIZE[0], self.IMAGE_SIZE[1], self.CHANNELS)\n",
        "      )\n",
        "\n",
        "    x = base_model.output\n",
        "    x = layers.GlobalAveragePooling2D()(x)\n",
        "    x = layers.Dense(dense1, activation='relu')(x)\n",
        "    x = layers.BatchNormalization()(x)\n",
        "    x = layers.Dropout(dropout1)(x)\n",
        "\n",
        "    x = layers.Dense(dense2, activation='relu')(x)\n",
        "    x = layers.BatchNormalization()(x)\n",
        "    x = layers.Dropout(dropout2)(x)\n",
        "\n",
        "    outputs = layers.Dense(7, activation='softmax')(x)\n",
        "\n",
        "    model = models.Model(inputs=base_model.input, outputs=outputs)\n",
        "\n",
        "    return model"
      ],
      "metadata": {
        "id": "kPfaEFh-Pibi"
      },
      "execution_count": 2,
      "outputs": []
    }
  ]
}