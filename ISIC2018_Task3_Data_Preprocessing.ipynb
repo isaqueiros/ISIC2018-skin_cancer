{
  "nbformat": 4,
  "nbformat_minor": 0,
  "metadata": {
    "colab": {
      "provenance": [],
      "gpuType": "T4"
    },
    "kernelspec": {
      "name": "python3",
      "display_name": "Python 3"
    },
    "language_info": {
      "name": "python"
    },
    "accelerator": "GPU"
  },
  "cells": [
    {
      "cell_type": "markdown",
      "source": [
        "# Data Preprocessing"
      ],
      "metadata": {
        "id": "gJJt3ZtyK5ld"
      }
    },
    {
      "cell_type": "markdown",
      "source": [
        "This notebook consists of different data preprocessing options that will be used to explore the best flow for the image classification task of diagnosis of skin lesions with multi-class classification through dermoscopic images."
      ],
      "metadata": {
        "id": "gDazeblLL3bi"
      }
    },
    {
      "cell_type": "markdown",
      "source": [
        "## Libraries Import"
      ],
      "metadata": {
        "id": "vs34QQYmOeMf"
      }
    },
    {
      "cell_type": "code",
      "source": [
        "import pandas as pd\n",
        "import numpy as np\n",
        "from google.colab import drive"
      ],
      "metadata": {
        "id": "d6mBotL9OgPD"
      },
      "execution_count": null,
      "outputs": []
    },
    {
      "cell_type": "code",
      "source": [
        "import keras\n",
        "import tensorflow as tf\n",
        "from keras.preprocessing.image import ImageDataGenerator"
      ],
      "metadata": {
        "id": "NTklmJX1TB_K"
      },
      "execution_count": null,
      "outputs": []
    },
    {
      "cell_type": "markdown",
      "source": [
        "## Data Balancing"
      ],
      "metadata": {
        "id": "MexZNYIZMJ9i"
      }
    },
    {
      "cell_type": "code",
      "execution_count": null,
      "metadata": {
        "id": "em33JpelKtIP"
      },
      "outputs": [],
      "source": [
        "class DataBalancer:\n",
        "\n",
        "  def __init__(self, ds):\n",
        "    super.ds = ds\n",
        "\n",
        "  '''\n",
        "  Capture an x number of images from each class based on smallest class number,\n",
        "  followed by oversampling to generate a sufficient number of images for training.\n",
        "  '''\n",
        "  def reduceAndOversample(self):\n",
        "    return dsBalanced\n",
        "\n",
        "  '''\n",
        "  Based on class with highest number of records, oversample other classes to match.\n",
        "  '''\n",
        "  def maxOversample(self):\n",
        "    return dsBalanced\n",
        "\n",
        "  '''\n",
        "  Calculate a weight for each class based on inverse frequency.\n",
        "  '''\n",
        "  def classWeightening(self):\n",
        "    return dsBalanced"
      ]
    },
    {
      "cell_type": "markdown",
      "source": [
        "## Data Preparation\n",
        "\n",
        "This section includes image resizing, normalisation, data augmentation techniques and"
      ],
      "metadata": {
        "id": "8SfFfepQNfKV"
      }
    },
    {
      "cell_type": "code",
      "source": [
        "class DataPreparer:\n",
        "\n",
        "  def __init__(self):\n",
        "    pass\n",
        "\n",
        "  def imageResizer(image, height, width):\n",
        "    image_decode = tf.image.decode_jpeg(image)\n",
        "    resize_image = tf.image.resize(image, [height, width])\n",
        "    return resize_image\n",
        "\n",
        "  def pixelNormalizer(image,label):\n",
        "    image = tf.cast(image/255. , tf.float32)\n",
        "    return image,label\n",
        "\n",
        "  def featureExtractor():\n",
        "    return 0"
      ],
      "metadata": {
        "id": "Cq_cHLnfNebJ"
      },
      "execution_count": null,
      "outputs": []
    }
  ]
}